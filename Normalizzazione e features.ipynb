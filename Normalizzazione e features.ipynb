{
 "cells": [
  {
   "cell_type": "code",
   "execution_count": 103,
   "metadata": {},
   "outputs": [],
   "source": [
    "import os, re, string\n",
    "\n",
    "\n",
    "def pulizia(s):\n",
    "    s = s.replace(\"\\n\", \"\")\n",
    "    s = s.replace(\"a'\", \"à\")\n",
    "    s = s.replace(\"e'\", \"è\")\n",
    "    s = s.replace(\"i'\", \"ì\")\n",
    "    s = s.replace(\"o'\", \"ò\")\n",
    "    s = s.replace(\"u'\", \"ù\")\n",
    "    s = re.sub(r'(?<=[.,?!\\'])(?=[^\\s])', r' ', s)\n",
    "    s = s.translate(str.maketrans('', '', string.punctuation))\n",
    "    return s\n",
    "\n",
    "\n",
    "d = {}\n",
    "for filename in os.listdir('./Corpus/'):\n",
    "    if filename.endswith('.txt'):\n",
    "        with open(os.path.join('./Corpus/', filename)) as f:\n",
    "            \n",
    "            content = f.read()\n",
    "            normalized = content.lower()\n",
    "            normalized = pulizia(normalized)\n",
    "            \n",
    "            filename = filename.split(\".\")[0]\n",
    "            year, pres = (filename.split(\"-\"))\n",
    "            year = int(year)\n",
    "            \n",
    "        d[year] = {\"presidente\":pres, \"lunghezza\":len(content.split()), \"discorso_norm\":normalized, \"discorso_orig\":content}"
   ]
  },
  {
   "cell_type": "code",
   "execution_count": 104,
   "metadata": {
    "scrolled": true
   },
   "outputs": [],
   "source": [
    "from collections import Counter\n",
    "import nltk\n",
    "from nltk.corpus import stopwords\n",
    "\n",
    "ciampi2 = d[2009]['discorso_norm']\n",
    "ignored_words = nltk.corpus.stopwords.words('italian')\n",
    "\n",
    "for year, diz in d.items():\n",
    "    tokens = [w for w in diz[\"discorso_norm\"].split() if w not in ignored_words]\n",
    "    d[year][\"most_common\"] = {k:v for k,v in Counter(tokens).most_common(30)}"
   ]
  },
  {
   "cell_type": "code",
   "execution_count": 105,
   "metadata": {},
   "outputs": [],
   "source": [
    "import spacy\n",
    "nlp = spacy.load('it_core_news_sm')\n",
    "\n",
    "for year, diz in d.items():\n",
    "    \n",
    "    speech = nlp(diz['discorso_orig'])\n",
    "    tmp = []\n",
    "    \n",
    "    for token in speech:         \n",
    "        tmp.append(token.pos_)\n",
    "    \n",
    "    d[year][\"PoS_percentage\"] = {k:(v/d[year][\"lunghezza\"])*100 for k,v in dict(Counter(tmp)).items()}\n",
    "    "
   ]
  },
  {
   "cell_type": "code",
   "execution_count": 106,
   "metadata": {},
   "outputs": [],
   "source": [
    "import json\n",
    "with open('corpus.json', 'w') as f:\n",
    "    json.dump(d, f)"
   ]
  },
  {
   "cell_type": "code",
   "execution_count": 107,
   "metadata": {},
   "outputs": [],
   "source": [
    "# todos\n",
    "# pos tagger inconsistente durante gli anni: verificare\n",
    "# output anche in csv x migliore leggibilita\n",
    "# trattini e punteggiatura speciale: verificare"
   ]
  }
 ],
 "metadata": {
  "kernelspec": {
   "display_name": "my_venv",
   "language": "python",
   "name": "my_venv"
  },
  "language_info": {
   "codemirror_mode": {
    "name": "ipython",
    "version": 3
   },
   "file_extension": ".py",
   "mimetype": "text/x-python",
   "name": "python",
   "nbconvert_exporter": "python",
   "pygments_lexer": "ipython3",
   "version": "3.6.9"
  }
 },
 "nbformat": 4,
 "nbformat_minor": 4
}
