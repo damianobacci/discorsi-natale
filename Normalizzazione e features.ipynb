{
 "cells": [
  {
   "cell_type": "code",
   "execution_count": 1,
   "metadata": {},
   "outputs": [],
   "source": [
    "import os, re, string\n",
    "from collections import defaultdict\n",
    "\n",
    "\n",
    "def pulizia(s):\n",
    "    s = s.replace(\"\\n\", \"\")\n",
    "    s = s.replace(\"a'\", \"à\")\n",
    "    s = s.replace(\"e'\", \"è\")\n",
    "    s = s.replace(\"i'\", \"ì\")\n",
    "    s = s.replace(\"o'\", \"ò\")\n",
    "    s = s.replace(\"u'\", \"ù\")\n",
    "    s = re.sub(r'(?<=[.,?!\\'])(?=[^\\s])', r' ', s)\n",
    "    s = s.translate(str.maketrans('', '', string.punctuation))\n",
    "    return s\n",
    "\n",
    "\n",
    "d = {}\n",
    "d2 = defaultdict(list)\n",
    "\n",
    "for filename in os.listdir('./Corpus/'):\n",
    "    if filename.endswith('.txt'):\n",
    "        with open(os.path.join('./Corpus/', filename)) as f:\n",
    "            \n",
    "            content = f.read()\n",
    "            normalized = content.lower()\n",
    "            normalized = pulizia(normalized)\n",
    "            \n",
    "            filename = filename.split(\".\")[0]\n",
    "            year, pres = (filename.split(\"-\"))\n",
    "            year = int(year)\n",
    "            \n",
    "        d[year] = {\"presidente\":pres, \"lunghezza\":len(content.split()), \"discorso_norm\":normalized, \"discorso_orig\":content}\n",
    "        d2[pres].append(normalized)\n",
    "        \n",
    "d3 = {}\n",
    "for pres,los in d2.items():\n",
    "    d3[pres] = {\"discorso_norm\":\" \".join(los)}\n",
    "d2 = None"
   ]
  },
  {
   "cell_type": "code",
   "execution_count": 2,
   "metadata": {
    "scrolled": true
   },
   "outputs": [],
   "source": [
    "from collections import Counter\n",
    "import nltk\n",
    "from nltk.corpus import stopwords\n",
    "\n",
    "ignored_words = nltk.corpus.stopwords.words('italian')\n",
    "\n",
    "def remove_sw(diz, ignored_words=ignored_words):\n",
    "    return [w for w in diz[\"discorso_norm\"].split() if w not in ignored_words]\n",
    "\n",
    "for year, diz in d.items():\n",
    "    tokens = remove_sw(diz)\n",
    "    d[year][\"most_common\"] = {k:v for k,v in Counter(tokens).most_common(30)}"
   ]
  },
  {
   "cell_type": "code",
   "execution_count": 3,
   "metadata": {},
   "outputs": [],
   "source": [
    "from nltk.stem import SnowballStemmer\n",
    "\n",
    "stemmer_snowball = SnowballStemmer('italian')    \n",
    "    \n",
    "for pres, diz in d3.items():\n",
    "    tokens = remove_sw(diz)\n",
    "    tokens = [stemmer_snowball.stem(w) for w in tokens]\n",
    "    d3[pres][\"most_common\"] = {k:v for k,v in Counter(tokens).most_common(30)}"
   ]
  },
  {
   "cell_type": "code",
   "execution_count": 4,
   "metadata": {},
   "outputs": [],
   "source": [
    "import spacy\n",
    "nlp = spacy.load('it_core_news_sm')\n",
    "\n",
    "def gulp(n_chars: int, n_words: int, n_sents: int) -> float:\n",
    "    return (300 * n_sents / n_words) - (10 * n_chars / n_words) + 89\n",
    "\n",
    "for year, diz in d.items():\n",
    "    \n",
    "    n_chars = len(diz[\"discorso_orig\"])\n",
    "    speech = nlp(diz['discorso_orig'])\n",
    "    n_words = len(speech)\n",
    "    n_sents = 0\n",
    "    for sent in speech.sents:\n",
    "        n_sents += 1\n",
    "    \n",
    "    tmp = []\n",
    "    \n",
    "    for token in speech:\n",
    "        tmp.append(token.pos_)\n",
    "    \n",
    "    counter = dict(Counter(tmp)).items()\n",
    "    len_per = {k:(v/d[year][\"lunghezza\"])*100 for k,v in counter}\n",
    "    d[year][\"PoS_percentage\"] = {k:v for k,v in sorted(len_per.items(),key=lambda i:i[1], reverse=True)}\n",
    "    d[year][\"indice_leggibilita\"] = gulp(n_chars, n_words, n_sents)"
   ]
  },
  {
   "cell_type": "code",
   "execution_count": 5,
   "metadata": {},
   "outputs": [],
   "source": [
    "import json\n",
    "\n",
    "with open('corpus_xdata.json', 'w') as f:\n",
    "    json.dump(d, f)\n",
    "    \n",
    "with open('corpus_xpresidente.json', 'w') as f:\n",
    "    json.dump(d3, f)"
   ]
  },
  {
   "cell_type": "code",
   "execution_count": 6,
   "metadata": {},
   "outputs": [],
   "source": [
    "# todos\n",
    "\n",
    "# lower / capitalize speeches in capslock\n",
    "# trattini e punteggiatura speciale: verificare\n",
    "# collocazioni"
   ]
  }
 ],
 "metadata": {
  "kernelspec": {
   "display_name": "my_venv",
   "language": "python",
   "name": "my_venv"
  },
  "language_info": {
   "codemirror_mode": {
    "name": "ipython",
    "version": 3
   },
   "file_extension": ".py",
   "mimetype": "text/x-python",
   "name": "python",
   "nbconvert_exporter": "python",
   "pygments_lexer": "ipython3",
   "version": "3.6.9"
  }
 },
 "nbformat": 4,
 "nbformat_minor": 4
}
